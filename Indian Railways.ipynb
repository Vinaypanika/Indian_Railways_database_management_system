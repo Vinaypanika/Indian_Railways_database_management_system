{
 "cells": [
  {
   "cell_type": "code",
   "execution_count": 1,
   "id": "26f720b9-2fe5-481d-8e62-b50ddd112ea1",
   "metadata": {},
   "outputs": [
    {
     "name": "stdout",
     "output_type": "stream",
     "text": [
      "✅ Dataset successfully created with Indian railway data!\n"
     ]
    }
   ],
   "source": [
    "import pandas as pd\n",
    "import random\n",
    "from faker import Faker\n",
    "\n",
    "fake = Faker('en_IN')  # Use Indian locale for Indian names\n",
    "Faker.seed(42)\n",
    "random.seed(42)\n",
    "\n",
    "# Indian Railway Stations\n",
    "indian_stations = [\n",
    "    (\"New Delhi\", \"Delhi\"), (\"Mumbai Central\", \"Maharashtra\"), (\"Chennai Central\", \"Tamil Nadu\"),\n",
    "    (\"Howrah Junction\", \"West Bengal\"), (\"Bangalore City\", \"Karnataka\"), (\"Secunderabad\", \"Telangana\"),\n",
    "    (\"Ahmedabad\", \"Gujarat\"), (\"Pune Junction\", \"Maharashtra\"), (\"Kolkata Shalimar\", \"West Bengal\"),\n",
    "    (\"Lucknow Charbagh\", \"Uttar Pradesh\"), (\"Patna Junction\", \"Bihar\"), (\"Jaipur Junction\", \"Rajasthan\"),\n",
    "    (\"Bhopal Junction\", \"Madhya Pradesh\"), (\"Thiruvananthapuram\", \"Kerala\"), (\"Guwahati\", \"Assam\"),\n",
    "    (\"Visakhapatnam\", \"Andhra Pradesh\"), (\"Nagpur\", \"Maharashtra\"), (\"Coimbatore\", \"Tamil Nadu\"),\n",
    "    (\"Varanasi Junction\", \"Uttar Pradesh\"), (\"Madurai Junction\", \"Tamil Nadu\")\n",
    "]\n",
    "\n",
    "# Indian Train Names\n",
    "indian_trains = [\n",
    "    \"Rajdhani Express\", \"Shatabdi Express\", \"Duronto Express\", \"Gatiman Express\",\n",
    "    \"Tejas Express\", \"Garib Rath Express\", \"Vande Bharat Express\", \"Maharaja Express\",\n",
    "    \"Deccan Queen\", \"Humsafar Express\", \"Sampark Kranti Express\", \"Jan Shatabdi Express\"\n",
    "]\n",
    "\n",
    "# Generating Data\n",
    "num_trains = 50\n",
    "num_stations = len(indian_stations)\n",
    "num_passengers = 5000\n",
    "num_bookings = 10000\n",
    "num_tickets = 20000\n",
    "\n",
    "# 1️⃣ Generate Trains Data\n",
    "train_data = []\n",
    "for i in range(1, num_trains + 1):\n",
    "    train_data.append((i, random.choice(indian_trains), random.choice([\"Express\", \"Superfast\", \"Local\"]), \n",
    "                       random.randint(10, 20), random.randint(300, 1000)))\n",
    "\n",
    "# 2️⃣ Generate Stations Data\n",
    "station_data = []\n",
    "for i, (station, state) in enumerate(indian_stations, start=1):\n",
    "    station_data.append((i, station, state))\n",
    "\n",
    "# 3️⃣ Generate Passengers Data with Indian Names\n",
    "passenger_data = []\n",
    "for i in range(1, num_passengers + 1):\n",
    "    phone_number = f\"{random.randint(7000000000, 9999999999)}\"  # Ensure 10-digit phone number\n",
    "    passenger_data.append((i, fake.name(), random.randint(10, 80), random.choice([\"Male\", \"Female\", \"Other\"]), \n",
    "                           phone_number))\n",
    "\n",
    "# 4️⃣ Generate Bookings Data\n",
    "booking_data = []\n",
    "for i in range(1, num_bookings + 1):\n",
    "    booking_data.append((i, random.randint(1, num_passengers), random.randint(1, num_trains), \n",
    "                         fake.date_this_year(), random.randint(1, num_stations), random.randint(1, num_stations),\n",
    "                         random.choice([\"Confirmed\", \"Waitlisted\", \"Cancelled\"])))\n",
    "\n",
    "# 5️⃣ Generate Tickets Data\n",
    "ticket_data = []\n",
    "for i in range(1, num_tickets + 1):\n",
    "    ticket_data.append((i, random.randint(1, num_bookings), f\"S{random.randint(1, 50)}-{random.randint(1, 6)}\", \n",
    "                        f\"C{random.randint(1, 10)}\", random.choice([\"Sleeper\", \"AC\", \"General\"]), \n",
    "                        round(random.uniform(50, 500), 2)))\n",
    "\n",
    "# Convert to DataFrames\n",
    "df_trains = pd.DataFrame(train_data, columns=[\"train_id\", \"train_name\", \"train_type\", \"total_coaches\", \"seat_capacity\"])\n",
    "df_stations = pd.DataFrame(station_data, columns=[\"station_id\", \"station_name\", \"state\"])\n",
    "df_passengers = pd.DataFrame(passenger_data, columns=[\"passenger_id\", \"full_name\", \"age\", \"gender\", \"phone_number\"])\n",
    "df_bookings = pd.DataFrame(booking_data, columns=[\"booking_id\", \"passenger_id\", \"train_id\", \"journey_date\", \n",
    "                                                  \"source_station_id\", \"destination_station_id\", \"booking_status\"])\n",
    "df_tickets = pd.DataFrame(ticket_data, columns=[\"ticket_id\", \"booking_id\", \"seat_number\", \"coach_number\", \"class_type\", \"fare_amount\"])\n",
    "\n",
    "# Save as CSV\n",
    "df_trains.to_csv(\"trains.csv\", index=False)\n",
    "df_stations.to_csv(\"stations.csv\", index=False)\n",
    "df_passengers.to_csv(\"passengers.csv\", index=False)\n",
    "df_bookings.to_csv(\"bookings.csv\", index=False)\n",
    "df_tickets.to_csv(\"tickets.csv\", index=False)\n",
    "\n",
    "print(\"✅ Dataset successfully created with Indian railway data!\")"
   ]
  },
  {
   "cell_type": "code",
   "execution_count": 2,
   "id": "9e935a57-849f-47c6-b60a-4ffa1e562c67",
   "metadata": {},
   "outputs": [
    {
     "data": {
      "text/markdown": [
       "\n",
       "## 📞 Contact Details  \n",
       "- 🔗 **LinkedIn:** [Vinay Kumar Panika](https://www.linkedin.com/in/vinaykumarpanika)  \n",
       "- 💻 **GitHub:** [Vinaypanika](https://github.com/Vinaypanika)  \n",
       "- 📧 **Email:** vinaypanika@gmail.com  \n",
       "- 📱 **Phone:** +91-7415552944  \n"
      ],
      "text/plain": [
       "<IPython.core.display.Markdown object>"
      ]
     },
     "metadata": {},
     "output_type": "display_data"
    }
   ],
   "source": [
    "from IPython.display import display, Markdown\n",
    "\n",
    "contact_details = \"\"\"\n",
    "## 📞 Contact Details  \n",
    "- 🔗 **LinkedIn:** [Vinay Kumar Panika](https://www.linkedin.com/in/vinaykumarpanika)  \n",
    "- 💻 **GitHub:** [Vinaypanika](https://github.com/Vinaypanika)  \n",
    "- 📧 **Email:** vinaypanika@gmail.com  \n",
    "- 📱 **Phone:** +91-7415552944  \n",
    "\"\"\"\n",
    "\n",
    "display(Markdown(contact_details))"
   ]
  },
  {
   "cell_type": "code",
   "execution_count": null,
   "id": "7bd2cf24-cce3-4354-8aca-585ff8b26dd7",
   "metadata": {},
   "outputs": [],
   "source": []
  }
 ],
 "metadata": {
  "kernelspec": {
   "display_name": "Python 3 (ipykernel)",
   "language": "python",
   "name": "python3"
  },
  "language_info": {
   "codemirror_mode": {
    "name": "ipython",
    "version": 3
   },
   "file_extension": ".py",
   "mimetype": "text/x-python",
   "name": "python",
   "nbconvert_exporter": "python",
   "pygments_lexer": "ipython3",
   "version": "3.11.7"
  }
 },
 "nbformat": 4,
 "nbformat_minor": 5
}
